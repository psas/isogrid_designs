{
 "cells": [
  {
   "cell_type": "markdown",
   "metadata": {},
   "source": [
    "# Worked Example\n",
    "Example 4.2.3"
   ]
  },
  {
   "cell_type": "code",
   "execution_count": 24,
   "metadata": {},
   "outputs": [
    {
     "name": "stdout",
     "output_type": "stream",
     "text": [
      "Valid\n",
      "N_a 0.9947183943243458 k/in\n",
      "N_b 1.1052426603603842 k/in\n",
      "N_cr 2.09996105468473 k/in\n",
      "3.977198967205928e-06\n",
      "0.07152\n",
      "69.01\n",
      "Compression Critical\n",
      "0.0038613582205882795\n",
      "1.5414603675003111 9.443051577580102\n",
      "skin_t 0.03883739198743126 in\n",
      "rib_depth 0.524304791830322 in\n"
     ]
    }
   ],
   "source": [
    "import math\n",
    "\n",
    "# Example inputs\n",
    "R = 48 # in\n",
    "E = 11.0*10**6 # PSI\n",
    "F = 300 # K\n",
    "M = 8000 # K in\n",
    "P_burst = 55 # PSI\n",
    "F_tu = 67.0 # ksi\n",
    "\n",
    "# Instability\n",
    "c0 = 0.397    # 4.2.005\n",
    "c1 = 10.2     # 4.2.006\n",
    "c2 = 0.616    # 4.2.008\n",
    "\n",
    "N_a = F/(2*math.pi*R)\n",
    "N_b = M/(math.pi*R**2)\n",
    "N_cr = N_a + N_b\n",
    "\n",
    "if N_b > N_cr/4:\n",
    "    print('Valid')\n",
    "\n",
    "print('N_a',N_a,'k/in')\n",
    "print('N_b',N_b,'k/in')\n",
    "print('N_cr',N_cr,'k/in')\n",
    "\n",
    "# Non-dimensional loading parameter\n",
    "load_param = N_cr*1000/(E*R)\n",
    "print(load_param)\n",
    "\n",
    "# Values from figure 4.2.3\n",
    "tmin_R = 0.00149\n",
    "po_Ftu = 1.03\n",
    "\n",
    "tmin = tmin_R*R\n",
    "print(tmin)\n",
    "\n",
    "po = po_Ftu*F_tu\n",
    "print(po)\n",
    "\n",
    "if po > P_burst:\n",
    "    print('Compression Critical')\n",
    "else:\n",
    "    print('Pressure Critical')\n",
    "\n",
    "\n",
    "Nbar = load_param*(F_tu*1000/po)\n",
    "print(Nbar)\n",
    "x = Nbar*1000/2.505\n",
    "y = Nbar/0.397*(F_tu*1000/po)\n",
    "print(x,y)\n",
    "\n",
    "alpha = 0.273\n",
    "delta = 13.5\n",
    "\n",
    "t = po*R/(F_tu*1000*(1+alpha))\n",
    "print('skin_t',t,'in')\n",
    "d = delta*t\n",
    "print('rib_depth',d,'in')\n",
    "\n",
    "\n",
    "\n"
   ]
  },
  {
   "cell_type": "code",
   "execution_count": null,
   "metadata": {},
   "outputs": [],
   "source": []
  }
 ],
 "metadata": {
  "kernelspec": {
   "display_name": "Python 3",
   "language": "python",
   "name": "python3"
  },
  "language_info": {
   "codemirror_mode": {
    "name": "ipython",
    "version": 3
   },
   "file_extension": ".py",
   "mimetype": "text/x-python",
   "name": "python",
   "nbconvert_exporter": "python",
   "pygments_lexer": "ipython3",
   "version": "3.7.4"
  }
 },
 "nbformat": 4,
 "nbformat_minor": 2
}
