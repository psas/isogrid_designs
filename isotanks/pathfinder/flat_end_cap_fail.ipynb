{
 "cells": [
  {
   "cell_type": "markdown",
   "metadata": {},
   "source": [
    "# End Cap\n"
   ]
  },
  {
   "cell_type": "code",
   "execution_count": 4,
   "metadata": {
    "scrolled": false
   },
   "outputs": [
    {
     "name": "stdout",
     "output_type": "stream",
     "text": [
      "\n",
      "Mx 449.802 lb in\n",
      "\n",
      "Material Non-dimensional Parameters\n",
      "Alpha: 0.150\n",
      "Delta: 3.000\n",
      "Beta: 3.147\n",
      "\n",
      "k1: 5.659\n",
      "k2: 1.329\n",
      "\n",
      "S1 -0.0036839657738095234\n",
      "S2 0.0008653610878076062\n",
      "\n",
      "Rib Stress 346.524 ksi\n",
      "Rib Factor of Safety  0.13\n",
      "Skin Stress 122.097 ksi\n",
      "Skin Crit Stress 2985.262 ksi\n"
     ]
    }
   ],
   "source": [
    "import math\n",
    "# Worked from 4.10.3, on pages 4.10.010 - 4.10.011\n",
    "\n",
    "\n",
    "total_t = 0.25\n",
    "t = 0.0625\n",
    "b = 0.05\n",
    "cell_height = 1.0\n",
    "end_cap_r = 5.5 / 2.0\n",
    "p_meop = 285.78\n",
    "flanges = False\n",
    "\n",
    "# Material properties for Al 6061-T6\n",
    "E = 69.0 # Young's Modules, GPa\n",
    "F_tu = 45.0 # Ultimate Tensile Strength - ksi\n",
    "nu = 0.33\n",
    "\n",
    "# Bending Moment\n",
    "Mx = (3 + nu)/16*p_meop*end_cap_r**2\n",
    "print('\\nMx {:5.3f} lb in'.format(Mx))\n",
    "\n",
    "rib_depth = total_t - t\n",
    "alpha = (b*rib_depth)/(t*cell_height) # Web non-dimensional ratio, pg. 2.0.008\n",
    "t_eff = t*(1+alpha) # Effective thickness \n",
    "delta = rib_depth/t # rib depth to skin thickness ratio, pg. 2.0.008\n",
    "if flanges == False:\n",
    "    beta = (3*alpha*(1+delta)**2+(1+alpha)*(1+alpha*delta**2))**0.5\n",
    "\n",
    "print('\\nMaterial Non-dimensional Parameters')    \n",
    "print('Alpha: {:5.3f}'.format(alpha))\n",
    "print('Delta: {:5.3f}'.format(delta))\n",
    "print('Beta: {:5.3f}'.format(beta))\n",
    "\n",
    "k1 = beta**2/(2*alpha+alpha*delta+1)\n",
    "k2 = beta**2/(2*delta+alpha*delta+1)\n",
    "\n",
    "print('\\nk1: {:5.3f}'.format(k1))\n",
    "print('k2: {:5.3f}'.format(k2))\n",
    "\n",
    "# Note: The example uses the tables to find k1 and k2 and then find S1, S2\n",
    "# Since we have somewhat more compute power than the 1960s, we just solve\n",
    "# directly for S1 and S2\n",
    "S1 = -(t**2)/6*k1 # Skin Section Modulus\n",
    "S2 = (t**2)/6*k2 # Rib Section Modulus\n",
    "\n",
    "print('\\nS1',S1)\n",
    "print('S2',S2)\n",
    "\n",
    "# Rib Stress\n",
    "# Assumes ribs are in tension\n",
    "sigma_rib = 2/3*Mx/S2/1000\n",
    "rib_FS = F_tu/sigma_rib\n",
    "\n",
    "print('\\nRib Stress {:5.3f} ksi'.format(sigma_rib))\n",
    "print('Rib Factor of Safety {:5.2f}'.format(rib_FS))\n",
    "\n",
    "# Skin Stress\n",
    "# Assumes skin in is compresssion (buckling)\n",
    "sigma_skin = - Mx/S1/1000\n",
    "sigma_crit = (math.pi**2)/(1-nu**2)*E*1000*(t/cell_height)**2\n",
    "print('Skin Stress {:5.3f} ksi'.format(sigma_skin))\n",
    "print('Skin Crit Stress {:5.3f} ksi'.format(sigma_crit))"
   ]
  },
  {
   "cell_type": "code",
   "execution_count": null,
   "metadata": {},
   "outputs": [],
   "source": []
  },
  {
   "cell_type": "code",
   "execution_count": null,
   "metadata": {},
   "outputs": [],
   "source": []
  }
 ],
 "metadata": {
  "kernelspec": {
   "display_name": "Python 3",
   "language": "python",
   "name": "python3"
  },
  "language_info": {
   "codemirror_mode": {
    "name": "ipython",
    "version": 3
   },
   "file_extension": ".py",
   "mimetype": "text/x-python",
   "name": "python",
   "nbconvert_exporter": "python",
   "pygments_lexer": "ipython3",
   "version": "3.7.4"
  }
 },
 "nbformat": 4,
 "nbformat_minor": 2
}
