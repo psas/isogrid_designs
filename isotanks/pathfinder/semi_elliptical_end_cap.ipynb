{
 "cells": [
  {
   "cell_type": "markdown",
   "metadata": {},
   "source": [
    "# Semi Ellipical End Cap\n",
    "Design notebook for the semi-elliptical end cap\n",
    "\n",
    "Stress Equations from: http://www.industrialseparation.com/20180412_pressure-vessel-ellipsoidal-heads-under-internal-pressure.html\n",
    "\n"
   ]
  },
  {
   "cell_type": "code",
   "execution_count": 6,
   "metadata": {
    "scrolled": false
   },
   "outputs": [
    {
     "name": "stdout",
     "output_type": "stream",
     "text": [
      "R/h: 2.0\n",
      "\n",
      "Mx 449.802 lb in\n"
     ]
    },
    {
     "ename": "NameError",
     "evalue": "name 'total_t' is not defined",
     "output_type": "error",
     "traceback": [
      "\u001b[0;31m---------------------------------------------------------------------------\u001b[0m",
      "\u001b[0;31mNameError\u001b[0m                                 Traceback (most recent call last)",
      "\u001b[0;32m<ipython-input-6-45efb86dc756>\u001b[0m in \u001b[0;36m<module>\u001b[0;34m\u001b[0m\n\u001b[1;32m     18\u001b[0m \u001b[0mprint\u001b[0m\u001b[0;34m(\u001b[0m\u001b[0;34m'\\nMx {:5.3f} lb in'\u001b[0m\u001b[0;34m.\u001b[0m\u001b[0mformat\u001b[0m\u001b[0;34m(\u001b[0m\u001b[0mMx\u001b[0m\u001b[0;34m)\u001b[0m\u001b[0;34m)\u001b[0m\u001b[0;34m\u001b[0m\u001b[0;34m\u001b[0m\u001b[0m\n\u001b[1;32m     19\u001b[0m \u001b[0;34m\u001b[0m\u001b[0m\n\u001b[0;32m---> 20\u001b[0;31m \u001b[0mrib_depth\u001b[0m \u001b[0;34m=\u001b[0m \u001b[0mtotal_t\u001b[0m \u001b[0;34m-\u001b[0m \u001b[0mt\u001b[0m\u001b[0;34m\u001b[0m\u001b[0;34m\u001b[0m\u001b[0m\n\u001b[0m\u001b[1;32m     21\u001b[0m \u001b[0malpha\u001b[0m \u001b[0;34m=\u001b[0m \u001b[0;34m(\u001b[0m\u001b[0mb\u001b[0m\u001b[0;34m*\u001b[0m\u001b[0mrib_depth\u001b[0m\u001b[0;34m)\u001b[0m\u001b[0;34m/\u001b[0m\u001b[0;34m(\u001b[0m\u001b[0mt\u001b[0m\u001b[0;34m*\u001b[0m\u001b[0mcell_height\u001b[0m\u001b[0;34m)\u001b[0m \u001b[0;31m# Web non-dimensional ratio, pg. 2.0.008\u001b[0m\u001b[0;34m\u001b[0m\u001b[0;34m\u001b[0m\u001b[0m\n\u001b[1;32m     22\u001b[0m \u001b[0mt_eff\u001b[0m \u001b[0;34m=\u001b[0m \u001b[0mt\u001b[0m\u001b[0;34m*\u001b[0m\u001b[0;34m(\u001b[0m\u001b[0;36m1\u001b[0m\u001b[0;34m+\u001b[0m\u001b[0malpha\u001b[0m\u001b[0;34m)\u001b[0m \u001b[0;31m# Effective thickness\u001b[0m\u001b[0;34m\u001b[0m\u001b[0;34m\u001b[0m\u001b[0m\n",
      "\u001b[0;31mNameError\u001b[0m: name 'total_t' is not defined"
     ]
    }
   ],
   "source": [
    "import math\n",
    "\n",
    "t = 0.125      # thickness\n",
    "r = 5.5 / 2.0  # end cap radius\n",
    "h = 5.5 / 4.0  # end cap height\n",
    "p = 285.78     # pressure, MEOP\n",
    "\n",
    "r_h = r/h\n",
    "print('R/h:',r_h)\n",
    "\n",
    "# Material properties for Al 6061-T6\n",
    "E = 69.0 # Young's Modules, GPa\n",
    "F_tu = 45.0 # Ultimate Tensile Strength - ksi\n",
    "nu = 0.33\n",
    "\n",
    "# Bending Moment\n",
    "Mx = (3 + nu)/16*p_meop*end_cap_r**2\n",
    "print('\\nMx {:5.3f} lb in'.format(Mx))\n",
    "\n",
    "rib_depth = total_t - t\n",
    "alpha = (b*rib_depth)/(t*cell_height) # Web non-dimensional ratio, pg. 2.0.008\n",
    "t_eff = t*(1+alpha) # Effective thickness \n",
    "delta = rib_depth/t # rib depth to skin thickness ratio, pg. 2.0.008\n",
    "if flanges == False:\n",
    "    beta = (3*alpha*(1+delta)**2+(1+alpha)*(1+alpha*delta**2))**0.5\n",
    "\n",
    "print('\\nMaterial Non-dimensional Parameters')    \n",
    "print('Alpha: {:5.3f}'.format(alpha))\n",
    "print('Delta: {:5.3f}'.format(delta))\n",
    "print('Beta: {:5.3f}'.format(beta))\n",
    "\n",
    "k1 = beta**2/(2*alpha+alpha*delta+1)\n",
    "k2 = beta**2/(2*delta+alpha*delta+1)\n",
    "\n",
    "print('\\nk1: {:5.3f}'.format(k1))\n",
    "print('k2: {:5.3f}'.format(k2))\n",
    "\n",
    "# Note: The example uses the tables to find k1 and k2 and then find S1, S2\n",
    "# Since we have somewhat more compute power than the 1960s, we just solve\n",
    "# directly for S1 and S2\n",
    "S1 = -(t**2)/6*k1 # Skin Section Modulus\n",
    "S2 = (t**2)/6*k2 # Rib Section Modulus\n",
    "\n",
    "print('\\nS1',S1)\n",
    "print('S2',S2)\n",
    "\n",
    "# Rib Stress\n",
    "# Assumes ribs are in tension\n",
    "sigma_rib = 2/3*Mx/S2/1000\n",
    "rib_FS = F_tu/sigma_rib\n",
    "\n",
    "print('\\nRib Stress {:5.3f} ksi'.format(sigma_rib))\n",
    "print('Rib Factor of Safety {:5.2f}'.format(rib_FS))\n",
    "\n",
    "# Skin Stress\n",
    "# Assumes skin in is compresssion (buckling)\n",
    "sigma_skin = - Mx/S1/1000\n",
    "sigma_crit = (math.pi**2)/(1-nu**2)*E*1000*(t/cell_height)**2\n",
    "print('Skin Stress {:5.3f} ksi'.format(sigma_skin))\n",
    "print('Skin Crit Stress {:5.3f} ksi'.format(sigma_crit))"
   ]
  },
  {
   "cell_type": "code",
   "execution_count": null,
   "metadata": {},
   "outputs": [],
   "source": []
  },
  {
   "cell_type": "code",
   "execution_count": null,
   "metadata": {},
   "outputs": [],
   "source": []
  }
 ],
 "metadata": {
  "kernelspec": {
   "display_name": "Python 3",
   "language": "python",
   "name": "python3"
  },
  "language_info": {
   "codemirror_mode": {
    "name": "ipython",
    "version": 3
   },
   "file_extension": ".py",
   "mimetype": "text/x-python",
   "name": "python",
   "nbconvert_exporter": "python",
   "pygments_lexer": "ipython3",
   "version": "3.7.4"
  }
 },
 "nbformat": 4,
 "nbformat_minor": 2
}
